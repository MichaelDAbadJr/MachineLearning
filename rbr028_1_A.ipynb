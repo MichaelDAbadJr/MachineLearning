{
 "cells": [
  {
   "cell_type": "code",
   "execution_count": 74,
   "id": "1c8789e8",
   "metadata": {},
   "outputs": [],
   "source": [
    "# Lab 1 (Part A)\n",
    "# [1]\n",
    "# At first, please find the required dataset for this lab named as 'housing.data1.txt'. \n",
    "# You need to upload the dataset to your Google Colab environment first. Then import \n",
    "# the required packages like below.\n",
    "import pandas as pd\n",
    "import numpy as np\n",
    "\n",
    "# [2] Import your dataset using pandas and Create a dataframe\n",
    "dataset = pd.read_csv('housing.data1.csv', header = None, sep = '\\s+')"
   ]
  },
  {
   "cell_type": "code",
   "execution_count": 56,
   "id": "8ea455e3",
   "metadata": {},
   "outputs": [
    {
     "name": "stdout",
     "output_type": "stream",
     "text": [
      "          0     1       2      3       4       5         6        7      8   \\\n",
      "0    0.00632  18.0   2.310  0.000  0.5380   6.575   65.2000   4.0900    1.0   \n",
      "1    0.00000   0.0   0.469  6.421  4.9671   2.000  242.0000  17.8000  396.9   \n",
      "2    0.02729   0.0   7.070  0.000  0.4690   7.185   61.1000   4.9671    2.0   \n",
      "3    0.03237   0.0   2.180  0.000  0.4580   6.998   45.8000   6.0622    3.0   \n",
      "4    0.06905   0.0   0.000  0.458  7.1470  54.200    6.0622   3.0000  222.0   \n",
      "..       ...   ...     ...    ...     ...     ...       ...      ...    ...   \n",
      "501  0.06263   0.0  11.930  0.000  0.5730   6.593   69.1000   2.4786    1.0   \n",
      "502  0.04527   0.0  20.600    NaN     NaN     NaN       NaN      NaN    NaN   \n",
      "503  0.06076   0.0  11.930  0.000  0.5730   6.976   91.0000   2.1675    1.0   \n",
      "504  0.10959   0.0  11.930  0.000  0.5730   6.794   89.3000   2.3889    1.0   \n",
      "505  0.04741   0.0  11.930  0.000  0.5730   6.030   80.8000   2.5050    1.0   \n",
      "\n",
      "         9      10      11     12    13  \n",
      "0    296.00   15.3  396.90   4.98  24.0  \n",
      "1      9.14   21.6     NaN    NaN   NaN  \n",
      "2    242.00   17.8  392.83   4.03  34.7  \n",
      "3    222.00   18.7  394.63   2.94  33.4  \n",
      "4     18.70  396.9    5.33  36.20   NaN  \n",
      "..      ...    ...     ...    ...   ...  \n",
      "501  273.00   21.0  391.99   9.67  22.4  \n",
      "502     NaN    NaN     NaN    NaN   NaN  \n",
      "503  273.00   21.0  396.90   5.64  23.9  \n",
      "504  273.00   21.0  393.45   6.48  22.0  \n",
      "505  273.00   21.0  396.90   7.88  11.9  \n",
      "\n",
      "[506 rows x 14 columns]\n"
     ]
    }
   ],
   "source": [
    "# [3] Convert your dataset to csv file\n",
    "# [4] Then use the print() function to generate output\n",
    "print(dataset)\n",
    "X = dataset.iloc[:,:].values"
   ]
  },
  {
   "cell_type": "code",
   "execution_count": 57,
   "id": "d63d032d",
   "metadata": {},
   "outputs": [
    {
     "name": "stdout",
     "output_type": "stream",
     "text": [
      "[[6.3200e-03 1.8000e+01 2.3100e+00 ... 3.9690e+02 4.9800e+00 2.4000e+01]\n",
      " [0.0000e+00 0.0000e+00 4.6900e-01 ...        nan        nan        nan]\n",
      " [2.7290e-02 0.0000e+00 7.0700e+00 ... 3.9283e+02 4.0300e+00 3.4700e+01]\n",
      " ...\n",
      " [6.0760e-02 0.0000e+00 1.1930e+01 ... 3.9690e+02 5.6400e+00 2.3900e+01]\n",
      " [1.0959e-01 0.0000e+00 1.1930e+01 ... 3.9345e+02 6.4800e+00 2.2000e+01]\n",
      " [4.7410e-02 0.0000e+00 1.1930e+01 ... 3.9690e+02 7.8800e+00 1.1900e+01]]\n"
     ]
    }
   ],
   "source": [
    "print(X)"
   ]
  },
  {
   "cell_type": "code",
   "execution_count": 58,
   "id": "14e91f87",
   "metadata": {},
   "outputs": [
    {
     "data": {
      "text/html": [
       "<div>\n",
       "<style scoped>\n",
       "    .dataframe tbody tr th:only-of-type {\n",
       "        vertical-align: middle;\n",
       "    }\n",
       "\n",
       "    .dataframe tbody tr th {\n",
       "        vertical-align: top;\n",
       "    }\n",
       "\n",
       "    .dataframe thead th {\n",
       "        text-align: right;\n",
       "    }\n",
       "</style>\n",
       "<table border=\"1\" class=\"dataframe\">\n",
       "  <thead>\n",
       "    <tr style=\"text-align: right;\">\n",
       "      <th></th>\n",
       "      <th>0</th>\n",
       "      <th>1</th>\n",
       "      <th>2</th>\n",
       "      <th>3</th>\n",
       "      <th>4</th>\n",
       "      <th>5</th>\n",
       "      <th>6</th>\n",
       "      <th>7</th>\n",
       "      <th>8</th>\n",
       "      <th>9</th>\n",
       "      <th>10</th>\n",
       "      <th>11</th>\n",
       "      <th>12</th>\n",
       "      <th>13</th>\n",
       "    </tr>\n",
       "  </thead>\n",
       "  <tbody>\n",
       "    <tr>\n",
       "      <th>0</th>\n",
       "      <td>0.00632</td>\n",
       "      <td>18.0</td>\n",
       "      <td>2.310</td>\n",
       "      <td>0.000</td>\n",
       "      <td>0.5380</td>\n",
       "      <td>6.575</td>\n",
       "      <td>65.2000</td>\n",
       "      <td>4.0900</td>\n",
       "      <td>1.0</td>\n",
       "      <td>296.00</td>\n",
       "      <td>15.3</td>\n",
       "      <td>396.90</td>\n",
       "      <td>4.98</td>\n",
       "      <td>24.0</td>\n",
       "    </tr>\n",
       "    <tr>\n",
       "      <th>1</th>\n",
       "      <td>0.00000</td>\n",
       "      <td>0.0</td>\n",
       "      <td>0.469</td>\n",
       "      <td>6.421</td>\n",
       "      <td>4.9671</td>\n",
       "      <td>2.000</td>\n",
       "      <td>242.0000</td>\n",
       "      <td>17.8000</td>\n",
       "      <td>396.9</td>\n",
       "      <td>9.14</td>\n",
       "      <td>21.6</td>\n",
       "      <td>NaN</td>\n",
       "      <td>NaN</td>\n",
       "      <td>NaN</td>\n",
       "    </tr>\n",
       "    <tr>\n",
       "      <th>2</th>\n",
       "      <td>0.02729</td>\n",
       "      <td>0.0</td>\n",
       "      <td>7.070</td>\n",
       "      <td>0.000</td>\n",
       "      <td>0.4690</td>\n",
       "      <td>7.185</td>\n",
       "      <td>61.1000</td>\n",
       "      <td>4.9671</td>\n",
       "      <td>2.0</td>\n",
       "      <td>242.00</td>\n",
       "      <td>17.8</td>\n",
       "      <td>392.83</td>\n",
       "      <td>4.03</td>\n",
       "      <td>34.7</td>\n",
       "    </tr>\n",
       "    <tr>\n",
       "      <th>3</th>\n",
       "      <td>0.03237</td>\n",
       "      <td>0.0</td>\n",
       "      <td>2.180</td>\n",
       "      <td>0.000</td>\n",
       "      <td>0.4580</td>\n",
       "      <td>6.998</td>\n",
       "      <td>45.8000</td>\n",
       "      <td>6.0622</td>\n",
       "      <td>3.0</td>\n",
       "      <td>222.00</td>\n",
       "      <td>18.7</td>\n",
       "      <td>394.63</td>\n",
       "      <td>2.94</td>\n",
       "      <td>33.4</td>\n",
       "    </tr>\n",
       "    <tr>\n",
       "      <th>4</th>\n",
       "      <td>0.06905</td>\n",
       "      <td>0.0</td>\n",
       "      <td>0.000</td>\n",
       "      <td>0.458</td>\n",
       "      <td>7.1470</td>\n",
       "      <td>54.200</td>\n",
       "      <td>6.0622</td>\n",
       "      <td>3.0000</td>\n",
       "      <td>222.0</td>\n",
       "      <td>18.70</td>\n",
       "      <td>396.9</td>\n",
       "      <td>5.33</td>\n",
       "      <td>36.20</td>\n",
       "      <td>NaN</td>\n",
       "    </tr>\n",
       "  </tbody>\n",
       "</table>\n",
       "</div>"
      ],
      "text/plain": [
       "        0     1      2      3       4       5         6        7      8   \\\n",
       "0  0.00632  18.0  2.310  0.000  0.5380   6.575   65.2000   4.0900    1.0   \n",
       "1  0.00000   0.0  0.469  6.421  4.9671   2.000  242.0000  17.8000  396.9   \n",
       "2  0.02729   0.0  7.070  0.000  0.4690   7.185   61.1000   4.9671    2.0   \n",
       "3  0.03237   0.0  2.180  0.000  0.4580   6.998   45.8000   6.0622    3.0   \n",
       "4  0.06905   0.0  0.000  0.458  7.1470  54.200    6.0622   3.0000  222.0   \n",
       "\n",
       "       9      10      11     12    13  \n",
       "0  296.00   15.3  396.90   4.98  24.0  \n",
       "1    9.14   21.6     NaN    NaN   NaN  \n",
       "2  242.00   17.8  392.83   4.03  34.7  \n",
       "3  222.00   18.7  394.63   2.94  33.4  \n",
       "4   18.70  396.9    5.33  36.20   NaN  "
      ]
     },
     "execution_count": 58,
     "metadata": {},
     "output_type": "execute_result"
    }
   ],
   "source": [
    "# [5] Learn about head() function and the purpose of it. Use the head() function\n",
    "dataset.head()"
   ]
  },
  {
   "cell_type": "code",
   "execution_count": 59,
   "id": "ba25c14b",
   "metadata": {},
   "outputs": [
    {
     "name": "stdout",
     "output_type": "stream",
     "text": [
      "True\n"
     ]
    }
   ],
   "source": [
    "# how you can find about if there is NaN in your dataset. I used a variable named check_nan \n",
    "# to store myresult. If you print the variable, then you should get a True as result. \n",
    "# That means you have NaN in yourdataset.\n",
    "check_nan = dataset.isnull().values.any()\n",
    "print(check_nan)"
   ]
  },
  {
   "cell_type": "code",
   "execution_count": 69,
   "id": "def479fe",
   "metadata": {},
   "outputs": [],
   "source": [
    "# [7]Next, replace the NaN values with mean value (by using SimpleImputer class)\n",
    "# Dealing with missing data\n",
    "from sklearn.impute import SimpleImputer\n",
    "imputer = SimpleImputer(missing_values=np.nan, strategy='mean')\n",
    "# we want all rows, but only columns 1 & 2\n",
    "imputer.fit(X[:, :]) \n",
    "# transforming, replacing all nan with mean\n",
    "X[:,:] = imputer.transform(X[:,:]) "
   ]
  },
  {
   "cell_type": "code",
   "execution_count": 70,
   "id": "eee93659",
   "metadata": {},
   "outputs": [
    {
     "name": "stdout",
     "output_type": "stream",
     "text": [
      "False\n"
     ]
    }
   ],
   "source": [
    "# [8]Check if you still have NaN values in your dataset or not. Recall that your \n",
    "# dataset is a numpy array now as you used the SimpleImputer class.\n",
    "array_has_nan = dataset.isnull().values.any()\n",
    "print(array_has_nan)"
   ]
  },
  {
   "cell_type": "code",
   "execution_count": 73,
   "id": "322365fd",
   "metadata": {},
   "outputs": [
    {
     "data": {
      "text/plain": [
       "array([[6.32000000e-03, 1.80000000e+01, 2.31000000e+00, ...,\n",
       "        3.96900000e+02, 4.98000000e+00, 2.40000000e+01],\n",
       "       [0.00000000e+00, 0.00000000e+00, 4.69000000e-01, ...,\n",
       "        3.49281783e+02, 1.29052049e+01, 2.25598739e+01],\n",
       "       [2.72900000e-02, 0.00000000e+00, 7.07000000e+00, ...,\n",
       "        3.92830000e+02, 4.03000000e+00, 3.47000000e+01],\n",
       "       ...,\n",
       "       [6.07600000e-02, 0.00000000e+00, 1.19300000e+01, ...,\n",
       "        3.96900000e+02, 5.64000000e+00, 2.39000000e+01],\n",
       "       [1.09590000e-01, 0.00000000e+00, 1.19300000e+01, ...,\n",
       "        3.93450000e+02, 6.48000000e+00, 2.20000000e+01],\n",
       "       [4.74100000e-02, 0.00000000e+00, 1.19300000e+01, ...,\n",
       "        3.96900000e+02, 7.88000000e+00, 1.19000000e+01]])"
      ]
     },
     "execution_count": 73,
     "metadata": {},
     "output_type": "execute_result"
    }
   ],
   "source": [
    "# [9]Print your output and see if it’s a numpy array. \n",
    "np.array(dataset)"
   ]
  },
  {
   "cell_type": "code",
   "execution_count": null,
   "id": "508f32cf",
   "metadata": {},
   "outputs": [],
   "source": [
    "# [10]Once you are done, please save your .ipynb file as abc123_1_A.ipynb."
   ]
  }
 ],
 "metadata": {
  "kernelspec": {
   "display_name": "Python 3",
   "language": "python",
   "name": "python3"
  },
  "language_info": {
   "codemirror_mode": {
    "name": "ipython",
    "version": 3
   },
   "file_extension": ".py",
   "mimetype": "text/x-python",
   "name": "python",
   "nbconvert_exporter": "python",
   "pygments_lexer": "ipython3",
   "version": "3.8.8"
  }
 },
 "nbformat": 4,
 "nbformat_minor": 5
}
