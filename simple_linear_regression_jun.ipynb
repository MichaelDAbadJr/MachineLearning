{
 "cells": [
  {
   "cell_type": "markdown",
   "id": "d9059a88",
   "metadata": {},
   "source": [
    "Importing the libraries"
   ]
  },
  {
   "cell_type": "code",
   "execution_count": 10,
   "id": "db02b452",
   "metadata": {},
   "outputs": [],
   "source": [
    "import numpy as np\n",
    "import matplotlib.pyplot as plt\n",
    "import pandas as pd"
   ]
  },
  {
   "cell_type": "markdown",
   "id": "05206db0",
   "metadata": {},
   "source": [
    "Importing the dataset"
   ]
  },
  {
   "cell_type": "code",
   "execution_count": 11,
   "id": "99521c11",
   "metadata": {},
   "outputs": [],
   "source": [
    "dataset = pd.read_csv(\"Benefits_Data.csv\")\n",
    "X = dataset.iloc[:, :-1].values\n",
    "y = dataset.iloc[:, -1].values"
   ]
  },
  {
   "cell_type": "code",
   "execution_count": 12,
   "id": "6bec73ff",
   "metadata": {
    "scrolled": true
   },
   "outputs": [
    {
     "name": "stdout",
     "output_type": "stream",
     "text": [
      "[[ 2.2]\n",
      " [ 2.6]\n",
      " [ 3. ]\n",
      " [ 4. ]\n",
      " [ 4.4]\n",
      " [ 5.8]\n",
      " [ 6. ]\n",
      " [ 6.4]\n",
      " [ 6.4]\n",
      " [ 7.4]\n",
      " [ 7.8]\n",
      " [ 8. ]\n",
      " [ 8. ]\n",
      " [ 8.2]\n",
      " [ 9. ]\n",
      " [ 9.8]\n",
      " [10.2]\n",
      " [10.6]\n",
      " [11.8]\n",
      " [12. ]\n",
      " [13.6]\n",
      " [14.2]\n",
      " [15.8]\n",
      " [16.4]\n",
      " [17.4]\n",
      " [18. ]\n",
      " [19. ]\n",
      " [19.2]\n",
      " [20.6]\n",
      " [21. ]]\n",
      "[ 78686  92410  75462  87050  79782 113284 120300 108890 128890 114378\n",
      " 126436 111588 113914 114162 122222 135876 132058 166176 162726 187880\n",
      " 183476 196546 202604 227624 218862 211164 233938 225270 244782 243744]\n",
      "    JobYrs  Benefits\n",
      "0      2.2     78686\n",
      "1      2.6     92410\n",
      "2      3.0     75462\n",
      "3      4.0     87050\n",
      "4      4.4     79782\n",
      "5      5.8    113284\n",
      "6      6.0    120300\n",
      "7      6.4    108890\n",
      "8      6.4    128890\n",
      "9      7.4    114378\n",
      "10     7.8    126436\n",
      "11     8.0    111588\n",
      "12     8.0    113914\n",
      "13     8.2    114162\n",
      "14     9.0    122222\n",
      "15     9.8    135876\n",
      "16    10.2    132058\n",
      "17    10.6    166176\n",
      "18    11.8    162726\n",
      "19    12.0    187880\n",
      "20    13.6    183476\n",
      "21    14.2    196546\n",
      "22    15.8    202604\n",
      "23    16.4    227624\n",
      "24    17.4    218862\n",
      "25    18.0    211164\n",
      "26    19.0    233938\n",
      "27    19.2    225270\n",
      "28    20.6    244782\n",
      "29    21.0    243744\n"
     ]
    }
   ],
   "source": [
    "print(X)\n",
    "print(y)\n",
    "print(dataset)"
   ]
  },
  {
   "cell_type": "markdown",
   "id": "397b9209",
   "metadata": {},
   "source": [
    "Splitting the dataset into the Training set and Test set"
   ]
  },
  {
   "cell_type": "code",
   "execution_count": 13,
   "id": "2b7eac21",
   "metadata": {},
   "outputs": [],
   "source": [
    "from sklearn.model_selection import train_test_split\n",
    "X_train, X_test, y_train, y_test = train_test_split(X, y, test_size = 1/3, random_state = 0)"
   ]
  },
  {
   "cell_type": "markdown",
   "id": "b1988ee1",
   "metadata": {},
   "source": [
    "Training the Simple Linear Regression model on the Training set"
   ]
  },
  {
   "cell_type": "code",
   "execution_count": 6,
   "id": "a52610ca",
   "metadata": {},
   "outputs": [
    {
     "data": {
      "text/plain": [
       "LinearRegression()"
      ]
     },
     "execution_count": 6,
     "metadata": {},
     "output_type": "execute_result"
    }
   ],
   "source": [
    "from sklearn.linear_model import LinearRegression\n",
    "regressor = LinearRegression()\n",
    "regressor.fit(X_train, y_train)"
   ]
  },
  {
   "cell_type": "markdown",
   "id": "cfd87455",
   "metadata": {},
   "source": [
    "Predicting the Test set Results"
   ]
  },
  {
   "cell_type": "code",
   "execution_count": 7,
   "id": "f603c3d3",
   "metadata": {},
   "outputs": [],
   "source": [
    "y_pred = regressor.predict(X_test)"
   ]
  },
  {
   "cell_type": "markdown",
   "id": "2cd8c172",
   "metadata": {},
   "source": [
    "Visualising the Training set results"
   ]
  },
  {
   "cell_type": "code",
   "execution_count": 8,
   "id": "663731c4",
   "metadata": {
    "scrolled": true
   },
   "outputs": [
    {
     "data": {
      "image/png": "[encoded data removed]",
      "text/plain": [
       "<Figure size 432x288 with 1 Axes>"
      ]
     },
     "metadata": {
      "needs_background": "light"
     },
     "output_type": "display_data"
    }
   ],
   "source": [
    "plt.scatter(X_train, y_train, color = 'red')\n",
    "plt.plot(X_train, regressor.predict(X_train), color = 'blue')\n",
    "plt.title('Benefits vs Experience (Training set)')\n",
    "plt.xlabel('Years of Experience')\n",
    "plt.ylabel('Benefits')\n",
    "plt.show()"
   ]
  },
  {
   "cell_type": "markdown",
   "id": "fec22224",
   "metadata": {},
   "source": [
    "Visualisingthe Test set results"
   ]
  },
  {
   "cell_type": "code",
   "execution_count": 9,
   "id": "997ab082",
   "metadata": {},
   "outputs": [
    {
     "data": {
      "image/png": "[encoded data removed]",
      "text/plain": [
       "<Figure size 432x288 with 1 Axes>"
      ]
     },
     "metadata": {
      "needs_background": "light"
     },
     "output_type": "display_data"
    }
   ],
   "source": [
    "plt.scatter(X_test, y_test, color = 'red')\n",
    "plt.plot(X_train, regressor.predict(X_train), color = 'blue')\n",
    "plt.title('Benefits vs Experience (Training set)')\n",
    "plt.xlabel('Years of Experience')\n",
    "plt.ylabel('Benefits')\n",
    "plt.show()"
   ]
  }
 ],
 "metadata": {
  "kernelspec": {
   "display_name": "Python 3",
   "language": "python",
   "name": "python3"
  },
  "language_info": {
   "codemirror_mode": {
    "name": "ipython",
    "version": 3
   },
   "file_extension": ".py",
   "mimetype": "text/x-python",
   "name": "python",
   "nbconvert_exporter": "python",
   "pygments_lexer": "ipython3",
   "version": "3.8.8"
  }
 },
 "nbformat": 4,
 "nbformat_minor": 5
}
